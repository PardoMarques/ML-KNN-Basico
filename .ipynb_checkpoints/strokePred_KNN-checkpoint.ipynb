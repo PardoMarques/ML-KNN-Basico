{
 "cells": [
  {
   "cell_type": "markdown",
   "metadata": {},
   "source": [
    "# Realizando o uso do KNN(K Nearst Neighbor)"
   ]
  },
  {
   "cell_type": "markdown",
   "metadata": {},
   "source": [
    "Importando as Bibliotecas necessárias para a geração de gráficos e facilitadores para cálculos"
   ]
  },
  {
   "cell_type": "code",
   "execution_count": 1,
   "metadata": {},
   "outputs": [],
   "source": [
    "from sklearn import datasets\n",
    "import pandas as pd\n",
    "import matplotlib.pyplot as plt"
   ]
  },
  {
   "cell_type": "raw",
   "metadata": {},
   "source": [
    "Definindo nosso dataFrame"
   ]
  },
  {
   "cell_type": "code",
   "execution_count": 2,
   "metadata": {},
   "outputs": [],
   "source": [
    "df_strokePred = pd.read_csv(\"stroke_prediction.csv\", sep=\",\", encoding=\"ISO-8859-1\")"
   ]
  },
  {
   "cell_type": "markdown",
   "metadata": {},
   "source": [
    "Conferindo o dataFrame"
   ]
  },
  {
   "cell_type": "code",
   "execution_count": 3,
   "metadata": {},
   "outputs": [],
   "source": [
    "#df_strokePred"
   ]
  },
  {
   "cell_type": "code",
   "execution_count": 4,
   "metadata": {},
   "outputs": [
    {
     "name": "stdout",
     "output_type": "stream",
     "text": [
      "<class 'pandas.core.frame.DataFrame'>\n",
      "RangeIndex: 5110 entries, 0 to 5109\n",
      "Data columns (total 23 columns):\n",
      " #   Column              Non-Null Count  Dtype  \n",
      "---  ------              --------------  -----  \n",
      " 0   Unnamed: 0          5110 non-null   int64  \n",
      " 1   x0_Female           5110 non-null   float64\n",
      " 2   x0_Male             5110 non-null   float64\n",
      " 3   x0_Other            5110 non-null   float64\n",
      " 4   x1_No               5110 non-null   float64\n",
      " 5   x1_Yes              5110 non-null   float64\n",
      " 6   x2_Govt_job         5110 non-null   float64\n",
      " 7   x2_Never_worked     5110 non-null   float64\n",
      " 8   x2_Private          5110 non-null   float64\n",
      " 9   x2_Self-employed    5110 non-null   float64\n",
      " 10  x2_children         5110 non-null   float64\n",
      " 11  x3_Rural            5110 non-null   float64\n",
      " 12  x3_Urban            5110 non-null   float64\n",
      " 13  x4_Unknown          5110 non-null   float64\n",
      " 14  x4_formerly smoked  5110 non-null   float64\n",
      " 15  x4_never smoked     5110 non-null   float64\n",
      " 16  x4_smokes           5110 non-null   float64\n",
      " 17  age                 5110 non-null   float64\n",
      " 18  hypertension        5110 non-null   float64\n",
      " 19  heart_disease       5110 non-null   float64\n",
      " 20  avg_glucose_level   5110 non-null   float64\n",
      " 21  bmi                 5110 non-null   float64\n",
      " 22  target              5110 non-null   int64  \n",
      "dtypes: float64(21), int64(2)\n",
      "memory usage: 918.3 KB\n"
     ]
    }
   ],
   "source": [
    "df_strokePred.info()"
   ]
  },
  {
   "cell_type": "code",
   "execution_count": 5,
   "metadata": {},
   "outputs": [
    {
     "data": {
      "text/plain": [
       "0    4861\n",
       "1     249\n",
       "Name: target, dtype: int64"
      ]
     },
     "execution_count": 5,
     "metadata": {},
     "output_type": "execute_result"
    }
   ],
   "source": [
    "df_strokePred['target'].value_counts()"
   ]
  },
  {
   "cell_type": "markdown",
   "metadata": {},
   "source": [
    "### Aplicando o KNN"
   ]
  },
  {
   "cell_type": "markdown",
   "metadata": {},
   "source": [
    "Dividindo os dados em treino e teste com o train_test_split"
   ]
  },
  {
   "cell_type": "code",
   "execution_count": 6,
   "metadata": {},
   "outputs": [],
   "source": [
    "from sklearn.model_selection import train_test_split"
   ]
  },
  {
   "cell_type": "markdown",
   "metadata": {},
   "source": [
    "* df_strokePred.drop('stroke',axis=1)\n",
    " <br>Para que meu modelo de treino não condire o meu classificador\n",
    " <br>\n",
    "\n",
    "* df_strokePred['stroke']\n",
    " <br>Especifico o meu conjunto de classe\n",
    " <br>\n",
    "\n",
    "* test_size=0.2\n",
    " <br>20% do meu conjunto de dados sera usado para de teste\n",
    " <br>80% sera usado para o treino"
   ]
  },
  {
   "cell_type": "code",
   "execution_count": 7,
   "metadata": {},
   "outputs": [],
   "source": [
    "X_train, X_test, y_train, y_test = train_test_split(df_strokePred.drop('target',axis=1), df_strokePred['target'], test_size=0.2)"
   ]
  },
  {
   "cell_type": "markdown",
   "metadata": {},
   "source": [
    "### Classificador"
   ]
  },
  {
   "cell_type": "code",
   "execution_count": 8,
   "metadata": {},
   "outputs": [],
   "source": [
    "from sklearn.neighbors import KNeighborsClassifier"
   ]
  },
  {
   "cell_type": "markdown",
   "metadata": {},
   "source": [
    "n_neighbors: É o numero de K Vizinhos\n",
    "#### OBS:  o \"weights\"(Peso para as amostras vizinhas) está como uniforme"
   ]
  },
  {
   "cell_type": "code",
   "execution_count": 16,
   "metadata": {},
   "outputs": [],
   "source": [
    "knn = KNeighborsClassifier(n_neighbors=100)"
   ]
  },
  {
   "cell_type": "markdown",
   "metadata": {},
   "source": [
    "### Treinando com os dados"
   ]
  },
  {
   "cell_type": "code",
   "execution_count": 17,
   "metadata": {},
   "outputs": [
    {
     "data": {
      "text/plain": [
       "KNeighborsClassifier(n_neighbors=100)"
      ]
     },
     "execution_count": 17,
     "metadata": {},
     "output_type": "execute_result"
    }
   ],
   "source": [
    "knn.fit(X_train, y_train)"
   ]
  },
  {
   "cell_type": "markdown",
   "metadata": {},
   "source": [
    "### Executar o KNN"
   ]
  },
  {
   "cell_type": "code",
   "execution_count": 18,
   "metadata": {},
   "outputs": [
    {
     "data": {
      "text/plain": [
       "array([0, 0, 0, ..., 0, 0, 0], dtype=int64)"
      ]
     },
     "execution_count": 18,
     "metadata": {},
     "output_type": "execute_result"
    }
   ],
   "source": [
    "resultado = knn.predict(X_test)\n",
    "resultado"
   ]
  },
  {
   "cell_type": "markdown",
   "metadata": {},
   "source": [
    "### Matriz de Confusão //sem cross validation"
   ]
  },
  {
   "cell_type": "code",
   "execution_count": 19,
   "metadata": {},
   "outputs": [
    {
     "name": "stdout",
     "output_type": "stream",
     "text": [
      "Predição --->    0   1   All\n",
      "Infarto                     \n",
      "0              969   0   969\n",
      "1                2  51    53\n",
      "All            971  51  1022\n"
     ]
    }
   ],
   "source": [
    "print (pd.crosstab(y_test,resultado, rownames=['Infarto'], colnames=['Predição --->'], margins=True))"
   ]
  },
  {
   "cell_type": "markdown",
   "metadata": {},
   "source": [
    "O algoritmo apresentou ótimas predições\n",
    "<br>\n",
    "Para 969 não infartes -> houveram 0 casos confusos\n",
    "<br>\n",
    "Para 53 infartes -> houveram 1 caso confuso"
   ]
  },
  {
   "cell_type": "markdown",
   "metadata": {},
   "source": [
    "### Observando o desempenho do KNN"
   ]
  },
  {
   "cell_type": "code",
   "execution_count": 20,
   "metadata": {},
   "outputs": [],
   "source": [
    "y_pred = knn.predict(X_test)"
   ]
  },
  {
   "cell_type": "code",
   "execution_count": 21,
   "metadata": {},
   "outputs": [],
   "source": [
    "from sklearn.metrics import classification_report"
   ]
  },
  {
   "cell_type": "code",
   "execution_count": 22,
   "metadata": {},
   "outputs": [
    {
     "name": "stdout",
     "output_type": "stream",
     "text": [
      "              precision    recall  f1-score   support\n",
      "\n",
      "           0       1.00      1.00      1.00       969\n",
      "           1       1.00      0.96      0.98        53\n",
      "\n",
      "    accuracy                           1.00      1022\n",
      "   macro avg       1.00      0.98      0.99      1022\n",
      "weighted avg       1.00      1.00      1.00      1022\n",
      "\n"
     ]
    }
   ],
   "source": [
    "print(classification_report(y_test, y_pred))"
   ]
  },
  {
   "cell_type": "code",
   "execution_count": null,
   "metadata": {},
   "outputs": [],
   "source": []
  }
 ],
 "metadata": {
  "kernelspec": {
   "display_name": "Python 3",
   "language": "python",
   "name": "python3"
  },
  "language_info": {
   "codemirror_mode": {
    "name": "ipython",
    "version": 3
   },
   "file_extension": ".py",
   "mimetype": "text/x-python",
   "name": "python",
   "nbconvert_exporter": "python",
   "pygments_lexer": "ipython3",
   "version": "3.8.5"
  }
 },
 "nbformat": 4,
 "nbformat_minor": 4
}
